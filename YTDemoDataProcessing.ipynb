{
 "cells": [
  {
   "cell_type": "code",
   "execution_count": 5,
   "id": "f27d615a-b199-4ba8-ae11-ee76be87e262",
   "metadata": {
    "execution": {
     "iopub.execute_input": "2024-02-23T07:56:42.144875Z",
     "iopub.status.busy": "2024-02-23T07:56:42.144697Z",
     "iopub.status.idle": "2024-02-23T07:56:43.113719Z",
     "shell.execute_reply": "2024-02-23T07:56:43.113174Z",
     "shell.execute_reply.started": "2024-02-23T07:56:42.144875Z"
    }
   },
   "outputs": [],
   "source": [
    "from langchain.llms import LlamaCpp\n",
    "from langchain.chains import LLMChain\n",
    "from langchain.prompts import PromptTemplate\n",
    "from langchain.callbacks.manager import CallbackManager\n",
    "from langchain.callbacks.streaming_stdout import StreamingStdOutCallbackHandler\n",
    "from langchain.agents import Tool\n",
    "from langchain_experimental.utilities import PythonREPL\n",
    "import autopep8\n",
    "import pandas as pd"
   ]
  },
  {
   "cell_type": "code",
   "execution_count": 2,
   "id": "6876147b-cb4b-42c9-bd04-922e71373b60",
   "metadata": {
    "execution": {
     "iopub.execute_input": "2024-02-23T07:56:17.303314Z",
     "iopub.status.busy": "2024-02-23T07:56:17.303314Z",
     "iopub.status.idle": "2024-02-23T07:56:17.308747Z",
     "shell.execute_reply": "2024-02-23T07:56:17.307920Z",
     "shell.execute_reply.started": "2024-02-23T07:56:17.303314Z"
    }
   },
   "outputs": [],
   "source": [
    "FILENAME='phi-2.Q5_0.gguf'\n",
    "model_path=f'./model/{FILENAME}'\n",
    "callback_manager = CallbackManager([StreamingStdOutCallbackHandler()])\n",
    "python_repl = PythonREPL()"
   ]
  },
  {
   "cell_type": "code",
   "execution_count": 3,
   "id": "d6ce6195-f12f-4b62-b7f0-93739a094983",
   "metadata": {
    "execution": {
     "iopub.execute_input": "2024-02-23T07:56:21.535993Z",
     "iopub.status.busy": "2024-02-23T07:56:21.534990Z",
     "iopub.status.idle": "2024-02-23T07:56:22.469707Z",
     "shell.execute_reply": "2024-02-23T07:56:22.468715Z",
     "shell.execute_reply.started": "2024-02-23T07:56:21.535993Z"
    }
   },
   "outputs": [
    {
     "name": "stderr",
     "output_type": "stream",
     "text": [
      "D:\\01MyFolder\\mypython\\python-3.11.5-embed-amd64\\repository\\jpynb\\Lib\\site-packages\\langchain_core\\utils\\utils.py:159: UserWarning: WARNING! repetition_penalty is not default parameter.\n",
      "                repetition_penalty was transferred to model_kwargs.\n",
      "                Please confirm that repetition_penalty is what you intended.\n",
      "  warnings.warn(\n",
      "D:\\01MyFolder\\mypython\\python-3.11.5-embed-amd64\\repository\\jpynb\\Lib\\site-packages\\langchain_core\\utils\\utils.py:159: UserWarning: WARNING! do_sample is not default parameter.\n",
      "                do_sample was transferred to model_kwargs.\n",
      "                Please confirm that do_sample is what you intended.\n",
      "  warnings.warn(\n",
      "D:\\01MyFolder\\mypython\\python-3.11.5-embed-amd64\\repository\\jpynb\\Lib\\site-packages\\langchain_core\\utils\\utils.py:159: UserWarning: WARNING! context_length is not default parameter.\n",
      "                context_length was transferred to model_kwargs.\n",
      "                Please confirm that context_length is what you intended.\n",
      "  warnings.warn(\n",
      "AVX = 1 | AVX_VNNI = 0 | AVX2 = 1 | AVX512 = 0 | AVX512_VBMI = 0 | AVX512_VNNI = 0 | FMA = 1 | NEON = 0 | ARM_FMA = 0 | F16C = 1 | FP16_VA = 0 | WASM_SIMD = 0 | BLAS = 0 | SSE3 = 1 | SSSE3 = 0 | VSX = 0 | \n",
      "Model metadata: {'general.architecture': 'phi2', 'phi2.context_length': '2048', 'general.name': 'Phi2', 'phi2.attention.head_count_kv': '32', 'phi2.embedding_length': '2560', 'tokenizer.ggml.add_bos_token': 'false', 'phi2.feed_forward_length': '10240', 'general.quantization_version': '2', 'tokenizer.ggml.bos_token_id': '50256', 'phi2.block_count': '32', 'phi2.attention.head_count': '32', 'phi2.attention.layer_norm_epsilon': '0.000010', 'phi2.rope.dimension_count': '32', 'tokenizer.ggml.eos_token_id': '50256', 'general.file_type': '8', 'tokenizer.ggml.model': 'gpt2', 'tokenizer.ggml.unknown_token_id': '50256'}\n"
     ]
    }
   ],
   "source": [
    "llm = LlamaCpp(\n",
    "    model_path=model_path,\n",
    "    repetition_penalty= 2.0,\n",
    "    temperature=0.00,\n",
    "    do_sample=True,\n",
    "    max_tokens=2000,\n",
    "    n_ctx=2048,\n",
    "    context_length=4000,\n",
    "    callback_manager=callback_manager,\n",
    "    top_k=50,\n",
    "    top_p=0.95,\n",
    ")"
   ]
  },
  {
   "cell_type": "code",
   "execution_count": 14,
   "id": "6e3ffb3a-9319-4c8e-8c7c-702ba5c25d5a",
   "metadata": {
    "execution": {
     "iopub.execute_input": "2024-02-23T07:59:08.170591Z",
     "iopub.status.busy": "2024-02-23T07:59:08.169594Z",
     "iopub.status.idle": "2024-02-23T07:59:08.195237Z",
     "shell.execute_reply": "2024-02-23T07:59:08.195121Z",
     "shell.execute_reply.started": "2024-02-23T07:59:08.169594Z"
    }
   },
   "outputs": [
    {
     "data": {
      "text/html": [
       "<div>\n",
       "<style scoped>\n",
       "    .dataframe tbody tr th:only-of-type {\n",
       "        vertical-align: middle;\n",
       "    }\n",
       "\n",
       "    .dataframe tbody tr th {\n",
       "        vertical-align: top;\n",
       "    }\n",
       "\n",
       "    .dataframe thead th {\n",
       "        text-align: right;\n",
       "    }\n",
       "</style>\n",
       "<table border=\"1\" class=\"dataframe\">\n",
       "  <thead>\n",
       "    <tr style=\"text-align: right;\">\n",
       "      <th></th>\n",
       "      <th>Region</th>\n",
       "      <th>Country</th>\n",
       "      <th>Item Type</th>\n",
       "      <th>Sales Channel</th>\n",
       "      <th>Order Priority</th>\n",
       "      <th>Order Date</th>\n",
       "      <th>Order ID</th>\n",
       "      <th>Ship Date</th>\n",
       "      <th>Units Sold</th>\n",
       "      <th>Unit Price</th>\n",
       "      <th>Unit Cost</th>\n",
       "      <th>Total Revenue</th>\n",
       "      <th>Total Cost</th>\n",
       "      <th>Total Profit</th>\n",
       "    </tr>\n",
       "  </thead>\n",
       "  <tbody>\n",
       "    <tr>\n",
       "      <th>0</th>\n",
       "      <td>Australia and Oceania</td>\n",
       "      <td>Tuvalu</td>\n",
       "      <td>Baby Food</td>\n",
       "      <td>Offline</td>\n",
       "      <td>H</td>\n",
       "      <td>5/28/2010</td>\n",
       "      <td>669165933</td>\n",
       "      <td>6/27/2010</td>\n",
       "      <td>9925</td>\n",
       "      <td>255.28</td>\n",
       "      <td>159.42</td>\n",
       "      <td>2533654.00</td>\n",
       "      <td>1582243.50</td>\n",
       "      <td>951410.50</td>\n",
       "    </tr>\n",
       "    <tr>\n",
       "      <th>1</th>\n",
       "      <td>Central America and the Caribbean</td>\n",
       "      <td>Grenada</td>\n",
       "      <td>Cereal</td>\n",
       "      <td>Online</td>\n",
       "      <td>C</td>\n",
       "      <td>8/22/2012</td>\n",
       "      <td>963881480</td>\n",
       "      <td>9/15/2012</td>\n",
       "      <td>2804</td>\n",
       "      <td>205.70</td>\n",
       "      <td>117.11</td>\n",
       "      <td>576782.80</td>\n",
       "      <td>328376.44</td>\n",
       "      <td>248406.36</td>\n",
       "    </tr>\n",
       "    <tr>\n",
       "      <th>2</th>\n",
       "      <td>Europe</td>\n",
       "      <td>Russia</td>\n",
       "      <td>Office Supplies</td>\n",
       "      <td>Offline</td>\n",
       "      <td>L</td>\n",
       "      <td>5/2/2014</td>\n",
       "      <td>341417157</td>\n",
       "      <td>5/8/2014</td>\n",
       "      <td>1779</td>\n",
       "      <td>651.21</td>\n",
       "      <td>524.96</td>\n",
       "      <td>1158502.59</td>\n",
       "      <td>933903.84</td>\n",
       "      <td>224598.75</td>\n",
       "    </tr>\n",
       "    <tr>\n",
       "      <th>3</th>\n",
       "      <td>Sub-Saharan Africa</td>\n",
       "      <td>Sao Tome and Principe</td>\n",
       "      <td>Fruits</td>\n",
       "      <td>Online</td>\n",
       "      <td>C</td>\n",
       "      <td>6/20/2014</td>\n",
       "      <td>514321792</td>\n",
       "      <td>7/5/2014</td>\n",
       "      <td>8102</td>\n",
       "      <td>9.33</td>\n",
       "      <td>6.92</td>\n",
       "      <td>75591.66</td>\n",
       "      <td>56065.84</td>\n",
       "      <td>19525.82</td>\n",
       "    </tr>\n",
       "    <tr>\n",
       "      <th>4</th>\n",
       "      <td>Sub-Saharan Africa</td>\n",
       "      <td>Rwanda</td>\n",
       "      <td>Office Supplies</td>\n",
       "      <td>Offline</td>\n",
       "      <td>L</td>\n",
       "      <td>2/1/2013</td>\n",
       "      <td>115456712</td>\n",
       "      <td>2/6/2013</td>\n",
       "      <td>5062</td>\n",
       "      <td>651.21</td>\n",
       "      <td>524.96</td>\n",
       "      <td>3296425.02</td>\n",
       "      <td>2657347.52</td>\n",
       "      <td>639077.50</td>\n",
       "    </tr>\n",
       "    <tr>\n",
       "      <th>...</th>\n",
       "      <td>...</td>\n",
       "      <td>...</td>\n",
       "      <td>...</td>\n",
       "      <td>...</td>\n",
       "      <td>...</td>\n",
       "      <td>...</td>\n",
       "      <td>...</td>\n",
       "      <td>...</td>\n",
       "      <td>...</td>\n",
       "      <td>...</td>\n",
       "      <td>...</td>\n",
       "      <td>...</td>\n",
       "      <td>...</td>\n",
       "      <td>...</td>\n",
       "    </tr>\n",
       "    <tr>\n",
       "      <th>95</th>\n",
       "      <td>Sub-Saharan Africa</td>\n",
       "      <td>Mali</td>\n",
       "      <td>Clothes</td>\n",
       "      <td>Online</td>\n",
       "      <td>M</td>\n",
       "      <td>7/26/2011</td>\n",
       "      <td>512878119</td>\n",
       "      <td>9/3/2011</td>\n",
       "      <td>888</td>\n",
       "      <td>109.28</td>\n",
       "      <td>35.84</td>\n",
       "      <td>97040.64</td>\n",
       "      <td>31825.92</td>\n",
       "      <td>65214.72</td>\n",
       "    </tr>\n",
       "    <tr>\n",
       "      <th>96</th>\n",
       "      <td>Asia</td>\n",
       "      <td>Malaysia</td>\n",
       "      <td>Fruits</td>\n",
       "      <td>Offline</td>\n",
       "      <td>L</td>\n",
       "      <td>11/11/2011</td>\n",
       "      <td>810711038</td>\n",
       "      <td>12/28/2011</td>\n",
       "      <td>6267</td>\n",
       "      <td>9.33</td>\n",
       "      <td>6.92</td>\n",
       "      <td>58471.11</td>\n",
       "      <td>43367.64</td>\n",
       "      <td>15103.47</td>\n",
       "    </tr>\n",
       "    <tr>\n",
       "      <th>97</th>\n",
       "      <td>Sub-Saharan Africa</td>\n",
       "      <td>Sierra Leone</td>\n",
       "      <td>Vegetables</td>\n",
       "      <td>Offline</td>\n",
       "      <td>C</td>\n",
       "      <td>6/1/2016</td>\n",
       "      <td>728815257</td>\n",
       "      <td>6/29/2016</td>\n",
       "      <td>1485</td>\n",
       "      <td>154.06</td>\n",
       "      <td>90.93</td>\n",
       "      <td>228779.10</td>\n",
       "      <td>135031.05</td>\n",
       "      <td>93748.05</td>\n",
       "    </tr>\n",
       "    <tr>\n",
       "      <th>98</th>\n",
       "      <td>North America</td>\n",
       "      <td>Mexico</td>\n",
       "      <td>Personal Care</td>\n",
       "      <td>Offline</td>\n",
       "      <td>M</td>\n",
       "      <td>7/30/2015</td>\n",
       "      <td>559427106</td>\n",
       "      <td>8/8/2015</td>\n",
       "      <td>5767</td>\n",
       "      <td>81.73</td>\n",
       "      <td>56.67</td>\n",
       "      <td>471336.91</td>\n",
       "      <td>326815.89</td>\n",
       "      <td>144521.02</td>\n",
       "    </tr>\n",
       "    <tr>\n",
       "      <th>99</th>\n",
       "      <td>Sub-Saharan Africa</td>\n",
       "      <td>Mozambique</td>\n",
       "      <td>Household</td>\n",
       "      <td>Offline</td>\n",
       "      <td>L</td>\n",
       "      <td>2/10/2012</td>\n",
       "      <td>665095412</td>\n",
       "      <td>2/15/2012</td>\n",
       "      <td>5367</td>\n",
       "      <td>668.27</td>\n",
       "      <td>502.54</td>\n",
       "      <td>3586605.09</td>\n",
       "      <td>2697132.18</td>\n",
       "      <td>889472.91</td>\n",
       "    </tr>\n",
       "  </tbody>\n",
       "</table>\n",
       "<p>100 rows × 14 columns</p>\n",
       "</div>"
      ],
      "text/plain": [
       "                               Region                Country        Item Type  \\\n",
       "0               Australia and Oceania                 Tuvalu        Baby Food   \n",
       "1   Central America and the Caribbean                Grenada           Cereal   \n",
       "2                              Europe                 Russia  Office Supplies   \n",
       "3                  Sub-Saharan Africa  Sao Tome and Principe           Fruits   \n",
       "4                  Sub-Saharan Africa                 Rwanda  Office Supplies   \n",
       "..                                ...                    ...              ...   \n",
       "95                 Sub-Saharan Africa                   Mali          Clothes   \n",
       "96                               Asia               Malaysia           Fruits   \n",
       "97                 Sub-Saharan Africa           Sierra Leone       Vegetables   \n",
       "98                      North America                 Mexico    Personal Care   \n",
       "99                 Sub-Saharan Africa             Mozambique        Household   \n",
       "\n",
       "   Sales Channel Order Priority  Order Date   Order ID   Ship Date  \\\n",
       "0        Offline              H   5/28/2010  669165933   6/27/2010   \n",
       "1         Online              C   8/22/2012  963881480   9/15/2012   \n",
       "2        Offline              L    5/2/2014  341417157    5/8/2014   \n",
       "3         Online              C   6/20/2014  514321792    7/5/2014   \n",
       "4        Offline              L    2/1/2013  115456712    2/6/2013   \n",
       "..           ...            ...         ...        ...         ...   \n",
       "95        Online              M   7/26/2011  512878119    9/3/2011   \n",
       "96       Offline              L  11/11/2011  810711038  12/28/2011   \n",
       "97       Offline              C    6/1/2016  728815257   6/29/2016   \n",
       "98       Offline              M   7/30/2015  559427106    8/8/2015   \n",
       "99       Offline              L   2/10/2012  665095412   2/15/2012   \n",
       "\n",
       "    Units Sold  Unit Price  Unit Cost  Total Revenue  Total Cost  Total Profit  \n",
       "0         9925      255.28     159.42     2533654.00  1582243.50     951410.50  \n",
       "1         2804      205.70     117.11      576782.80   328376.44     248406.36  \n",
       "2         1779      651.21     524.96     1158502.59   933903.84     224598.75  \n",
       "3         8102        9.33       6.92       75591.66    56065.84      19525.82  \n",
       "4         5062      651.21     524.96     3296425.02  2657347.52     639077.50  \n",
       "..         ...         ...        ...            ...         ...           ...  \n",
       "95         888      109.28      35.84       97040.64    31825.92      65214.72  \n",
       "96        6267        9.33       6.92       58471.11    43367.64      15103.47  \n",
       "97        1485      154.06      90.93      228779.10   135031.05      93748.05  \n",
       "98        5767       81.73      56.67      471336.91   326815.89     144521.02  \n",
       "99        5367      668.27     502.54     3586605.09  2697132.18     889472.91  \n",
       "\n",
       "[100 rows x 14 columns]"
      ]
     },
     "execution_count": 14,
     "metadata": {},
     "output_type": "execute_result"
    }
   ],
   "source": [
    "df=pd.read_csv('./data/sales.csv')\n",
    "df"
   ]
  },
  {
   "cell_type": "markdown",
   "id": "fa7d256d-f144-4a62-8afe-ff431f7b8072",
   "metadata": {},
   "source": [
    "# FewShotPromptTemplate with examples"
   ]
  },
  {
   "cell_type": "code",
   "execution_count": 7,
   "id": "a5d699c8-aeb8-4537-86bf-3760455bb3e6",
   "metadata": {
    "execution": {
     "iopub.execute_input": "2024-02-23T07:56:51.708935Z",
     "iopub.status.busy": "2024-02-23T07:56:51.707937Z",
     "iopub.status.idle": "2024-02-23T07:56:51.726078Z",
     "shell.execute_reply": "2024-02-23T07:56:51.726078Z",
     "shell.execute_reply.started": "2024-02-23T07:56:51.708935Z"
    }
   },
   "outputs": [],
   "source": [
    "from langchain.prompts.few_shot import FewShotPromptTemplate\n",
    "examples = [\n",
    "      {\n",
    "        \"question\": \"get the distinct region\",\n",
    "        \"answer\":\n",
    "        \"\"\"\n",
    "        ```python\n",
    "        output = df['region'].unique()\n",
    "        ```\n",
    "        \n",
    "        \"\"\"\n",
    "      },\n",
    "    {\n",
    "        \"question\": \"get the record with max unit_sold\",\n",
    "        \"answer\":\n",
    "        \"\"\"\n",
    "        ```python\n",
    "        output = df[df['Units Sold']==df['Units Sold'].max()]\n",
    "        ```\n",
    "        \n",
    "        \"\"\"\n",
    "      },\n",
    "\n",
    "\n",
    "    ]\n",
    "example_prompt = PromptTemplate(input_variables=[\"question\", \"answer\"], template=\"Question: {question}\\n{answer}\")\n",
    "prompt_with_example = FewShotPromptTemplate(\n",
    "                            examples=examples,\n",
    "                            example_prompt=example_prompt,\n",
    "                            suffix=\"Question: {input}\",\n",
    "                            input_variables=[\"input\"]\n",
    "                        )\n",
    "agent = LLMChain(llm=llm,prompt=prompt_with_example)"
   ]
  },
  {
   "cell_type": "markdown",
   "id": "98162478-f3b7-4e7b-9de9-6f64cd3c774e",
   "metadata": {},
   "source": [
    "# pass the prompt to the LLM"
   ]
  },
  {
   "cell_type": "code",
   "execution_count": 8,
   "id": "6b485c77-349b-477f-a547-2b99a7c88455",
   "metadata": {
    "execution": {
     "iopub.execute_input": "2024-02-23T07:56:57.511562Z",
     "iopub.status.busy": "2024-02-23T07:56:57.510586Z",
     "iopub.status.idle": "2024-02-23T07:57:40.595858Z",
     "shell.execute_reply": "2024-02-23T07:57:40.595280Z",
     "shell.execute_reply.started": "2024-02-23T07:56:57.511562Z"
    }
   },
   "outputs": [
    {
     "name": "stdout",
     "output_type": "stream",
     "text": [
      "  ```python\n",
      "  df['Sales Channel'] = df['Sales Channel'].replace({'Offline':0, 'Online':1})\n",
      "  print(df)\n",
      "  ```\n"
     ]
    }
   ],
   "source": [
    "query = \"Change the value in sales channel as Offline to 0 and Online to 1\"\n",
    "columns=df.columns.tolist()\n",
    "instruction = \"\"\"\n",
    "As a python coder create a pythonic response for the query with reference to the columns in my pandas dataframe{columns}.\n",
    "Instruction:\n",
    "Do not write the whole script just give me a pythonic response for this query and do not extend more than asked.\n",
    "Include a print statement for the final output.\n",
    "question: {input}\n",
    "\n",
    "answer:\n",
    "\n",
    "\"\"\"\n",
    "prompt_template = PromptTemplate.from_template(instruction)\n",
    "prompt = prompt_template.format(input=query,columns=columns)\n",
    "response = agent.invoke(prompt)"
   ]
  },
  {
   "cell_type": "markdown",
   "id": "a7ffc256-bf3a-47ba-b303-c6e1ea454fe7",
   "metadata": {},
   "source": [
    "# Format the response"
   ]
  },
  {
   "cell_type": "code",
   "execution_count": 9,
   "id": "87a67d37-1348-449e-9a58-3c28635d6fd6",
   "metadata": {
    "execution": {
     "iopub.execute_input": "2024-02-23T07:57:50.642201Z",
     "iopub.status.busy": "2024-02-23T07:57:50.641199Z",
     "iopub.status.idle": "2024-02-23T07:57:50.650898Z",
     "shell.execute_reply": "2024-02-23T07:57:50.649825Z",
     "shell.execute_reply.started": "2024-02-23T07:57:50.642201Z"
    }
   },
   "outputs": [],
   "source": [
    "def extract_code(response):\n",
    "    start = 0\n",
    "    q = \"\"\n",
    "    temp_block=\"\"\n",
    "    for line in response.splitlines(): #response['text'].splitlines():\n",
    "        if '```python' in line and start==0:\n",
    "            start=1\n",
    "        if '```' == line and start==1:\n",
    "            break\n",
    "        if start ==1 and '```' not in line:\n",
    "            q=q+'\\n'+line\n",
    "            #print(line)\n",
    "    #print(q)\n",
    "    return q"
   ]
  },
  {
   "cell_type": "code",
   "execution_count": 10,
   "id": "ffc8f4d2-d750-4ad9-be9b-1d0e390c766e",
   "metadata": {
    "execution": {
     "iopub.execute_input": "2024-02-23T07:57:57.196739Z",
     "iopub.status.busy": "2024-02-23T07:57:57.194916Z",
     "iopub.status.idle": "2024-02-23T07:57:57.217480Z",
     "shell.execute_reply": "2024-02-23T07:57:57.216478Z",
     "shell.execute_reply.started": "2024-02-23T07:57:57.196739Z"
    }
   },
   "outputs": [],
   "source": [
    "q=extract_code(response['text'])\n",
    "gencode=autopep8.fix_code(q)"
   ]
  },
  {
   "cell_type": "code",
   "execution_count": 12,
   "id": "105c1b7a-b4fe-4f33-868b-4e7542240036",
   "metadata": {
    "execution": {
     "iopub.execute_input": "2024-02-23T07:58:10.372980Z",
     "iopub.status.busy": "2024-02-23T07:58:10.371982Z",
     "iopub.status.idle": "2024-02-23T07:58:10.387031Z",
     "shell.execute_reply": "2024-02-23T07:58:10.386026Z",
     "shell.execute_reply.started": "2024-02-23T07:58:10.371982Z"
    }
   },
   "outputs": [
    {
     "name": "stdout",
     "output_type": "stream",
     "text": [
      "\n",
      "import pandas as pd\n",
      "\n",
      "df = pd.read_csv('./data/sales.csv')\n",
      "\n",
      "\n",
      "df['Sales Channel'] = df['Sales Channel'].replace({'Offline': 0, 'Online': 1})\n",
      "print(df)\n",
      "\n"
     ]
    }
   ],
   "source": [
    "code=f\"\"\"\n",
    "import pandas as pd\n",
    "\n",
    "df=pd.read_csv('./data/sales.csv')\n",
    "\n",
    "{gencode}\n",
    "\n",
    "\n",
    "\"\"\"\n",
    "print(autopep8.fix_code(code))"
   ]
  },
  {
   "cell_type": "markdown",
   "id": "23f53e63-d17d-4f79-8b3d-51185dfe7714",
   "metadata": {},
   "source": [
    "# Excute the generated code"
   ]
  },
  {
   "cell_type": "code",
   "execution_count": 13,
   "id": "9239715b-f102-4f01-a3d7-8eb2c55ca813",
   "metadata": {
    "execution": {
     "iopub.execute_input": "2024-02-23T07:58:16.960360Z",
     "iopub.status.busy": "2024-02-23T07:58:16.959366Z",
     "iopub.status.idle": "2024-02-23T07:58:17.015109Z",
     "shell.execute_reply": "2024-02-23T07:58:17.015109Z",
     "shell.execute_reply.started": "2024-02-23T07:58:16.960360Z"
    }
   },
   "outputs": [
    {
     "name": "stderr",
     "output_type": "stream",
     "text": [
      "Python REPL can execute arbitrary code. Use with caution.\n"
     ]
    },
    {
     "name": "stdout",
     "output_type": "stream",
     "text": [
      "                               Region                Country        Item Type  \\\n",
      "0               Australia and Oceania                 Tuvalu        Baby Food   \n",
      "1   Central America and the Caribbean                Grenada           Cereal   \n",
      "2                              Europe                 Russia  Office Supplies   \n",
      "3                  Sub-Saharan Africa  Sao Tome and Principe           Fruits   \n",
      "4                  Sub-Saharan Africa                 Rwanda  Office Supplies   \n",
      "..                                ...                    ...              ...   \n",
      "95                 Sub-Saharan Africa                   Mali          Clothes   \n",
      "96                               Asia               Malaysia           Fruits   \n",
      "97                 Sub-Saharan Africa           Sierra Leone       Vegetables   \n",
      "98                      North America                 Mexico    Personal Care   \n",
      "99                 Sub-Saharan Africa             Mozambique        Household   \n",
      "\n",
      "    Sales Channel Order Priority  Order Date   Order ID   Ship Date  \\\n",
      "0               0              H   5/28/2010  669165933   6/27/2010   \n",
      "1               1              C   8/22/2012  963881480   9/15/2012   \n",
      "2               0              L    5/2/2014  341417157    5/8/2014   \n",
      "3               1              C   6/20/2014  514321792    7/5/2014   \n",
      "4               0              L    2/1/2013  115456712    2/6/2013   \n",
      "..            ...            ...         ...        ...         ...   \n",
      "95              1              M   7/26/2011  512878119    9/3/2011   \n",
      "96              0              L  11/11/2011  810711038  12/28/2011   \n",
      "97              0              C    6/1/2016  728815257   6/29/2016   \n",
      "98              0              M   7/30/2015  559427106    8/8/2015   \n",
      "99              0              L   2/10/2012  665095412   2/15/2012   \n",
      "\n",
      "    Units Sold  Unit Price  Unit Cost  Total Revenue  Total Cost  Total Profit  \n",
      "0         9925      255.28     159.42     2533654.00  1582243.50     951410.50  \n",
      "1         2804      205.70     117.11      576782.80   328376.44     248406.36  \n",
      "2         1779      651.21     524.96     1158502.59   933903.84     224598.75  \n",
      "3         8102        9.33       6.92       75591.66    56065.84      19525.82  \n",
      "4         5062      651.21     524.96     3296425.02  2657347.52     639077.50  \n",
      "..         ...         ...        ...            ...         ...           ...  \n",
      "95         888      109.28      35.84       97040.64    31825.92      65214.72  \n",
      "96        6267        9.33       6.92       58471.11    43367.64      15103.47  \n",
      "97        1485      154.06      90.93      228779.10   135031.05      93748.05  \n",
      "98        5767       81.73      56.67      471336.91   326815.89     144521.02  \n",
      "99        5367      668.27     502.54     3586605.09  2697132.18     889472.91  \n",
      "\n",
      "[100 rows x 14 columns]\n",
      "\n"
     ]
    },
    {
     "name": "stderr",
     "output_type": "stream",
     "text": [
      "<string>:7: FutureWarning: Downcasting behavior in `replace` is deprecated and will be removed in a future version. To retain the old behavior, explicitly call `result.infer_objects(copy=False)`. To opt-in to the future behavior, set `pd.set_option('future.no_silent_downcasting', True)`\n"
     ]
    }
   ],
   "source": [
    "output=python_repl.run(code)\n",
    "print(output)"
   ]
  },
  {
   "cell_type": "code",
   "execution_count": null,
   "id": "117d4a32-0fa3-4697-86b0-c3464edad6ad",
   "metadata": {},
   "outputs": [],
   "source": []
  }
 ],
 "metadata": {
  "kernelspec": {
   "display_name": "Python 3 (ipykernel)",
   "language": "python",
   "name": "python3"
  },
  "language_info": {
   "codemirror_mode": {
    "name": "ipython",
    "version": 3
   },
   "file_extension": ".py",
   "mimetype": "text/x-python",
   "name": "python",
   "nbconvert_exporter": "python",
   "pygments_lexer": "ipython3",
   "version": "3.11.5"
  }
 },
 "nbformat": 4,
 "nbformat_minor": 5
}
